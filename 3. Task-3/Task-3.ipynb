{
 "metadata": {
  "language_info": {
   "codemirror_mode": {
    "name": "ipython",
    "version": 3
   },
   "file_extension": ".py",
   "mimetype": "text/x-python",
   "name": "python",
   "nbconvert_exporter": "python",
   "pygments_lexer": "ipython3",
   "version": "3.8.5"
  },
  "orig_nbformat": 4,
  "kernelspec": {
   "name": "python3",
   "display_name": "Python 3.8.5 64-bit ('base': conda)"
  },
  "interpreter": {
   "hash": "1671f8860f8bb5e471b7b9f4e83046dd54009149049c36157554251ec4af3810"
  }
 },
 "nbformat": 4,
 "nbformat_minor": 2,
 "cells": [
  {
   "source": [
    "# **Name: Md Saimon Siddqiue**\n",
    "## **Data Science and Business Analytics**\n",
    "### Task-3 : Exploratory Data Analysis - Retail\n",
    "Problem Statement:\n",
    "##### *● Perform ‘Exploratory Data Analysis’ on dataset ‘SampleSuperstore’*\n",
    "##### *● As a business manager, try to find out the weak areas where you can work to make more profit.*\n",
    "##### *● What are all business problems you can derive from exploring the data?*\n"
   ],
   "cell_type": "markdown",
   "metadata": {}
  },
  {
   "cell_type": "code",
   "execution_count": null,
   "metadata": {},
   "outputs": [],
   "source": [
    "# Importing Libraries\n",
    "import pandas as pd\n",
    "import numpy as np\n",
    "import seaborn as sns\n",
    "import matplotlib.pyplot as plt\n",
    "import warnings\n",
    "warnings.filterwarnings('ignore')"
   ]
  },
  {
   "source": [
    "## Loading the Store dataset"
   ],
   "cell_type": "markdown",
   "metadata": {}
  },
  {
   "cell_type": "code",
   "execution_count": null,
   "metadata": {},
   "outputs": [],
   "source": [
    "# Importing Dataset\n",
    "\n",
    "sd_df = pd.read_csv(\"Storedata.csv\")"
   ]
  },
  {
   "source": [
    "**Before doing data visualization Let's Explore data first**\n",
    "\n",
    " ## Data Exploration"
   ],
   "cell_type": "markdown",
   "metadata": {}
  },
  {
   "cell_type": "code",
   "execution_count": null,
   "metadata": {},
   "outputs": [],
   "source": [
    "sd_df.head()"
   ]
  },
  {
   "cell_type": "code",
   "execution_count": null,
   "metadata": {},
   "outputs": [],
   "source": [
    "sd_df.info()"
   ]
  },
  {
   "cell_type": "code",
   "execution_count": null,
   "metadata": {},
   "outputs": [],
   "source": [
    "sd_df.shape"
   ]
  },
  {
   "cell_type": "code",
   "execution_count": null,
   "metadata": {},
   "outputs": [],
   "source": [
    "#Detailed view of dataset\n",
    "sd_df.describe()"
   ]
  },
  {
   "cell_type": "code",
   "execution_count": null,
   "metadata": {},
   "outputs": [],
   "source": [
    "#Check for duplicate values\n",
    "print('No. of duplicated values :', sd_df.duplicated().sum())"
   ]
  },
  {
   "cell_type": "code",
   "execution_count": null,
   "metadata": {},
   "outputs": [],
   "source": [
    "# Removing Duplicates\n",
    "sd_df = sd_df.drop_duplicates()\n",
    "sd_df.head()"
   ]
  },
  {
   "source": [
    "## **Checking for missing**"
   ],
   "cell_type": "markdown",
   "metadata": {}
  },
  {
   "cell_type": "code",
   "execution_count": null,
   "metadata": {},
   "outputs": [],
   "source": [
    "null_values =sd_df.isna().sum().to_frame('Null Values')\n",
    "print(null_values)"
   ]
  },
  {
   "source": [
    "**No missing value in the dataset**"
   ],
   "cell_type": "markdown",
   "metadata": {}
  },
  {
   "cell_type": "code",
   "execution_count": null,
   "metadata": {},
   "outputs": [],
   "source": [
    "#NUMBER OF UNIQUE VALUES PER COLUMN\n",
    "sd_df.nunique()"
   ]
  },
  {
   "source": [
    "#### ● There are only 4 types of shipping mode to examine\n",
    "#### ● There are 3 segments in dataset"
   ],
   "cell_type": "markdown",
   "metadata": {}
  },
  {
   "cell_type": "code",
   "execution_count": null,
   "metadata": {},
   "outputs": [],
   "source": [
    "# Dropping Unnecessary columns from the Dataset\n",
    "sd_df = sd_df.drop(columns=['Postal Code', 'Country'], axis=1)\n",
    "sd_df.head()"
   ]
  },
  {
   "cell_type": "code",
   "execution_count": null,
   "metadata": {},
   "outputs": [],
   "source": [
    "#Taking a look at our data again\n",
    "\n",
    "sd_df.describe()"
   ]
  },
  {
   "source": [
    "## Data Visualization"
   ],
   "cell_type": "markdown",
   "metadata": {}
  },
  {
   "cell_type": "code",
   "execution_count": null,
   "metadata": {},
   "outputs": [],
   "source": [
    "sns.pairplot(data=sd_df, height=1.8)\n",
    "plt.show()"
   ]
  },
  {
   "cell_type": "code",
   "execution_count": null,
   "metadata": {},
   "outputs": [],
   "source": [
    "# Plotting Overall Sales Summary\n",
    "summary = pd.DataFrame({'Profit':sd_df.Quantity[sd_df.Profit > 0].sum(), \n",
    "                        'No-Profit':sd_df.Quantity[sd_df.Profit == 0].sum(), \n",
    "                        'Loss':sd_df.Quantity[(-sd_df.Profit) > 0].sum()},\n",
    "                       index={'Count'}).T\n",
    "plt.title('Overall Report', fontsize=20)\n",
    "summary.Count.plot.pie(autopct='%.2f%%',figsize=(7,7), label='Percentage', \n",
    "                       textprops = {\"fontsize\":12}, colors = ['green', 'blue', 'red'],shadow=False, explode=(0.08,0.05,0))\n",
    "plt.show()"
   ]
  },
  {
   "cell_type": "code",
   "execution_count": null,
   "metadata": {},
   "outputs": [],
   "source": [
    "sns.pairplot(sd_df,hue='Sub-Category')\n",
    "plt.show()"
   ]
  },
  {
   "cell_type": "code",
   "execution_count": null,
   "metadata": {},
   "outputs": [],
   "source": [
    "#PLOTTING CATEGORICAL VARIABLES\n",
    "categorical_features=[feature for feature in sd_df.columns if sd_df[feature].dtype=='O' ]\n",
    "for feature in categorical_features:\n",
    "    if feature not in ['State','City','Sub-Category']:\n",
    "        sns.catplot(x=feature, kind=\"count\", palette=\"ch:.25\", data=sd_df)"
   ]
  },
  {
   "cell_type": "code",
   "execution_count": null,
   "metadata": {},
   "outputs": [],
   "source": [
    "#Let's see the which states have top sales and Profits\n",
    "top_sales = sd_df.groupby(\"State\").Sales.sum().nlargest(n=5)\n",
    "top_profits = sd_df.groupby(\"State\").Profit.sum().nlargest(n=5)"
   ]
  },
  {
   "cell_type": "code",
   "execution_count": null,
   "metadata": {},
   "outputs": [],
   "source": [
    "#Top 5 states by Sales\n",
    "top_sales.plot(kind ='bar', figsize =(10,8), fontsize =14)\n",
    "plt.xlabel(\"States\", fontsize =13)\n",
    "plt.ylabel(\"Total Sales\",fontsize =13)\n",
    "plt.title(\"Top 05 States by Sales\",fontsize =16)\n",
    "plt.show()"
   ]
  },
  {
   "source": [
    "**California is having the highest sale.**"
   ],
   "cell_type": "markdown",
   "metadata": {}
  },
  {
   "cell_type": "code",
   "execution_count": null,
   "metadata": {},
   "outputs": [],
   "source": [
    "#Top 5 states by Profits\n",
    "top_profits.plot(kind ='bar', figsize =(10,8), fontsize =14)\n",
    "plt.xlabel(\"States\", fontsize =13)\n",
    "plt.ylabel(\"Total Profits\",fontsize =13)\n",
    "plt.title(\"Top 05 States by Profits\",fontsize =16)\n",
    "plt.show()"
   ]
  },
  {
   "source": [
    "**California is having the highest Profit.**\n",
    "\n",
    "#### California and New York are far ahead of any other states in terms of profit as well as sales."
   ],
   "cell_type": "markdown",
   "metadata": {}
  },
  {
   "cell_type": "code",
   "execution_count": null,
   "metadata": {},
   "outputs": [],
   "source": [
    "#Correlation\n",
    "plt.figure(figsize=(5,5))\n",
    "sns.heatmap(sd_df.corr(), annot=True, cbar=False, annot_kws={'size':15})\n",
    "plt.show()"
   ]
  },
  {
   "source": [
    "## **Profit vs Sales Analysis**"
   ],
   "cell_type": "markdown",
   "metadata": {}
  },
  {
   "cell_type": "code",
   "execution_count": null,
   "metadata": {},
   "outputs": [],
   "source": [
    "#When dicount is 0\n",
    "df=sd_df[sd_df['Discount']==0]\n",
    "sns.relplot(x='Sales',y='Profit',data=df)"
   ]
  },
  {
   "cell_type": "code",
   "execution_count": null,
   "metadata": {},
   "outputs": [],
   "source": [
    "#When discount is not zero\n",
    "df_new=sd_df[sd_df['Discount']!=0]\n",
    "sns.relplot(x='Sales',y='Profit',hue='Discount',data=df_new)"
   ]
  },
  {
   "cell_type": "code",
   "execution_count": null,
   "metadata": {},
   "outputs": [],
   "source": [
    "#Profit distribution by sub-category\n",
    "pivot=pd.pivot_table(df_new,index='Sub-Category',values='Profit')\n",
    "pivot.plot(kind='bar')"
   ]
  },
  {
   "source": [
    "We can see from the pivot that copiers had highest Profit and Machines had highest loss"
   ],
   "cell_type": "markdown",
   "metadata": {}
  },
  {
   "cell_type": "code",
   "execution_count": null,
   "metadata": {},
   "outputs": [],
   "source": [
    "#Sales distribution by sub-category\n",
    "pivot=pd.pivot_table(df_new,index='Sub-Category',values='Sales')\n",
    "pivot.plot(kind='bar')"
   ]
  },
  {
   "source": [
    "#### We see that copiers had highest sale and Machines had second highest sales.\n",
    "\n",
    "#### If we observe the above pivots, we can see that 'Machines' had second highest sale but due to large discounts it is in loss and in second graph we can see that sales in 'Fasteners','labels'and 'Art' category are so weak.so we have to concentrate on these sub-category businesses\n",
    "\n",
    "### Thus, Discounts are triggering losses."
   ],
   "cell_type": "markdown",
   "metadata": {}
  },
  {
   "source": [
    "## Now Let's do CATEGORY WISE ANALYSIS"
   ],
   "cell_type": "markdown",
   "metadata": {}
  },
  {
   "cell_type": "code",
   "execution_count": null,
   "metadata": {},
   "outputs": [],
   "source": [
    "#Discount\n",
    "pivot=pd.pivot_table(df_new,index='Category',values='Discount')\n",
    "pivot.plot(kind='bar')"
   ]
  },
  {
   "cell_type": "code",
   "execution_count": null,
   "metadata": {},
   "outputs": [],
   "source": [
    "#Sales\n",
    "pivot=pd.pivot_table(df_new,index='Category',values='Sales')\n",
    "pivot.plot(kind='bar')"
   ]
  },
  {
   "cell_type": "code",
   "execution_count": null,
   "metadata": {},
   "outputs": [],
   "source": [
    "#Profits\n",
    "pivot=pd.pivot_table(sd_df,index='Category',values='Profit')\n",
    "pivot.plot(kind='bar')"
   ]
  },
  {
   "source": [
    "<p>From Above Analysis we have noticed that:</p>\n",
    "\n",
    "<ol>\n",
    "    <li>Most Discount is given in Furniture category and less Discount is given in Technology category businesses.</li>\n",
    "    <li>Sales in Technology category is highest.</li>\n",
    "    <li>Profit in Technology category is higher than any other category.</li>\n",
    "</ol>\n"
   ],
   "cell_type": "markdown",
   "metadata": {}
  },
  {
   "source": [
    "## DISTRIBUTION BY REGION"
   ],
   "cell_type": "markdown",
   "metadata": {}
  },
  {
   "cell_type": "code",
   "execution_count": null,
   "metadata": {},
   "outputs": [],
   "source": [
    "region_wise = sd_df.groupby('Region')[['Profit','Sales','Discount']].sum()\n",
    "region_wise.head()"
   ]
  },
  {
   "cell_type": "code",
   "execution_count": null,
   "metadata": {},
   "outputs": [],
   "source": [
    "plt.figure(figsize = (10,4))\n",
    "sns.set(font_scale=1, palette= \"viridis\")\n",
    "sns.barplot(data = sd_df , x = \"Region\",y = \"Profit\" ,hue = \"Category\")\n",
    "plt.show()"
   ]
  },
  {
   "source": [
    " **Observing the above plotting, \"Furniture\" Category is the only loss making sector that to only in Central Region.**"
   ],
   "cell_type": "markdown",
   "metadata": {}
  },
  {
   "source": [
    "## Let's Investigate the reason for losses in the Central region"
   ],
   "cell_type": "markdown",
   "metadata": {}
  },
  {
   "cell_type": "code",
   "execution_count": null,
   "metadata": {},
   "outputs": [],
   "source": [
    "#Grouping Data by Region and only slicing Data for Central Region from whole Data Set\n",
    "Central = list(sd_df.groupby(\"Region\"))[0][1]"
   ]
  },
  {
   "cell_type": "code",
   "execution_count": null,
   "metadata": {},
   "outputs": [],
   "source": [
    "# Investing if shipmode has any effect in central Region \n",
    "plt.figure(figsize = (10,4))\n",
    "sns.set(font_scale=1.5, palette= \"viridis\")\n",
    "sns.barplot(data =Central, x = \"Category\",y = \"Profit\" ,hue = \"Ship Mode\")\n",
    "plt.title(\"Investigation of central region: Profit making(by Ship Mode)\")\n",
    "plt.show()"
   ]
  },
  {
   "source": [
    "The mode of shipping doesn't affect much. Losses incurred in Furniture Category are irrespective of shipping mode in Central Region."
   ],
   "cell_type": "markdown",
   "metadata": {}
  },
  {
   "source": [
    "** As we can see that shipmode does not affect much. Let's investigate individual by states in the central region in sale of furniture.**"
   ],
   "cell_type": "markdown",
   "metadata": {}
  },
  {
   "cell_type": "code",
   "execution_count": null,
   "metadata": {},
   "outputs": [],
   "source": [
    "# Slicing Furniture Data from whole data set\n",
    "Category_Furniture =list(list(sd_df.groupby(\"Region\"))[0][1].groupby(\"Category\"))[0][1]"
   ]
  },
  {
   "cell_type": "code",
   "execution_count": null,
   "metadata": {},
   "outputs": [],
   "source": [
    "plt.figure(figsize = (10,8))\n",
    "sns.set(font_scale=1, palette= \"viridis\")\n",
    "sns.barplot(data = Category_Furniture , x = \"State\",y = \"Profit\" ,hue = \"Sub-Category\")\n",
    "plt.title(\"Investigation of Central Region Furniture Category: Profit Analysis(by Sub Category)\", fontsize = 20)\n",
    "plt.show()"
   ]
  },
  {
   "source": [
    "** Texas and Illinois are only two states contributing to all the losses in Furniture category in the Central Region.**"
   ],
   "cell_type": "markdown",
   "metadata": {}
  },
  {
   "source": [
    "## Now Let's See What are the causes behind this Loss? "
   ],
   "cell_type": "markdown",
   "metadata": {}
  },
  {
   "cell_type": "code",
   "execution_count": null,
   "metadata": {},
   "outputs": [],
   "source": [
    "#Let's see the discount provided by the states\n",
    "plt.figure(figsize = (10,8))\n",
    "sns.set(font_scale=1, palette= \"viridis\")\n",
    "sns.barplot(data = Category_Furniture , x = \"State\",y = \"Discount\" ,hue = \"Sub-Category\")\n",
    "plt.title(\"Discounts provided by each state\", fontsize = 20)\n",
    "plt.show()"
   ]
  },
  {
   "source": [
    "### Texas and Illinois are two only states providing discounts in the whole central region."
   ],
   "cell_type": "markdown",
   "metadata": {}
  },
  {
   "source": [
    "## Findings:\n",
    "<ul>\n",
    "    <li><b>When discount increases, Sales increases but profit decreases.<b></li>\n",
    "    <li><b>In Technology category business we get more Profit as compared to other two business.This is because of we have given less Discount.</b></li>\n",
    "    <li><b>Central region facing more loss in sales compared with others.</b></li>\n",
    "    <li><b>Texas & Illinois are the States where overall sales are in loss and particularly for furniture.</b></li>\n",
    "    <li><b>Also Sales in 'Fasteners','labels'and 'Art' category are so weak.</b></li>\n",
    "    <li><b>Office Supplies category sales is less as compared to other two.</b></li>\n",
    "</ul>"
   ],
   "cell_type": "markdown",
   "metadata": {}
  },
  {
   "source": [
    "## Conclusion:\n",
    "<ul>\n",
    "    <li><b>The product must sell with low/no discount to become the best profitable.</b></li>\n",
    "    <li><b>For enhancing the profits, Better to minimize supplying Furniture(Tables & Bookcases) and the items in other categories that result in loss.</b></li>\n",
    "    <li><b>Texas & Illinois must drop the supply of furniture, items in Technology will enhance their profit <b></li>\n",
    "</ul>"
   ],
   "cell_type": "markdown",
   "metadata": {}
  },
  {
   "cell_type": "code",
   "execution_count": null,
   "metadata": {},
   "outputs": [],
   "source": []
  }
 ]
}